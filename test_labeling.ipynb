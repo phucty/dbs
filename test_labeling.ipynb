{
 "cells": [
  {
   "cell_type": "markdown",
   "metadata": {
    "collapsed": true
   },
   "source": [
    "# Demo"
   ]
  },
  {
   "cell_type": "markdown",
   "metadata": {},
   "source": [
    "The labeling process consists of two phases:\n",
    "1. Preparing numerical knowledge bases (NKB): The data could be extracted from knowledge graph (City, DBpedia, Wikidata) or your custom data (Open Data).\n",
    "2. Labeling queries (bag of numbers (BON)): Searching the most relevant numerical attributes in NKB with respect to a specific numerical similarity (SemanticTyper, DSL, Distribution Based Simialrity). "
   ]
  },
  {
   "cell_type": "markdown",
   "metadata": {},
   "source": [
    "## Configuration\n",
    "We will be working on \n",
    "- 4 datasets: City Data, DBpedia, Wikidata, Open Data\n",
    "- 5 evaluation methods: SemanticTyper, DSL, DBS1 (Manhattan), DBS2 (Eulidean), DBSinf (Chebyshev)"
   ]
  },
  {
   "cell_type": "code",
   "execution_count": null,
   "metadata": {},
   "outputs": [],
   "source": [
    "import io_worker\n",
    "import labeling\n",
    "from attribute_obj import NumericalAttribute\n",
    "\n",
    "dataset_names = [\"all\", \"city\", \"dbpedia\", \"wikidata\", \"open\"]\n",
    "methods = [\"semantictyper\", \"dsl\", \"dbs1\", \"dbs2\", \"dbsinf\"]\n",
    "\n",
    "config_dataname = \"all\"\n",
    "config_trans_size = 100"
   ]
  },
  {
   "cell_type": "markdown",
   "metadata": {},
   "source": [
    "## Preprare NKB\n",
    "There are two type of dataset: txt and csv. \n",
    "1. Txt: City Data and Open Data was organized as the txt format as SemanticTyper. Each dataset contain n source files; each source has m numerical attributes. The first line of a source file is a number of numerical attributes. The next two lines are the semantic label and m number of values of the first numerical attributes. The next m lines are values the numerical attributes where the first value of the line is number character of the numerical values. The next lines are the information of the next numerical attributes.\n",
    "2. DBpedia, Wikidata data was organized as csv format. Each csv file have one a numerical columns where the file name is the semantic label.\n"
   ]
  },
  {
   "cell_type": "code",
   "execution_count": 2,
   "metadata": {},
   "outputs": [
    {
     "name": "stdout",
     "output_type": "stream",
     "text": [
      "Data Loading: \nOverall: 30(labels) - 300(columns) | Load: city: 30(labels) - 300(columns) \n"
     ]
    },
    {
     "name": "stdout",
     "output_type": "stream",
     "text": [
      "Overall: 226(labels) - 2329(columns) | Load: dbpedia: 203(labels) - 2029(columns) \n"
     ]
    },
    {
     "name": "stdout",
     "output_type": "stream",
     "text": [
      "Overall: 380(labels) - 4017(columns) | Load: wikidata: 169(labels) - 1688(columns) \n"
     ]
    },
    {
     "name": "stdout",
     "output_type": "stream",
     "text": [
      "Overall: 428(labels) - 4517(columns) | Load: open: 50(labels) - 500(columns) \n"
     ]
    }
   ],
   "source": [
    "io_worker.print_status(\"Data Loading: \")\n",
    "labels = set()\n",
    "knowledge_base = []\n",
    "\n",
    "if \"all\" in config_dataname:\n",
    "    process_datasets = dataset_names[1:]\n",
    "else:\n",
    "    process_datasets = [config_dataname]\n",
    "    \n",
    "for data_name in process_datasets:\n",
    "    temp_labels, temp_kb = io_worker.load_numerical_dataset(data_name)\n",
    "    labels = labels.union(temp_labels)\n",
    "    knowledge_base.extend(temp_kb)\n",
    "    io_worker.print_status(\"Overall: %d(labels) - %d(columns) | Load: %s: %d(labels) - %d(columns) \" %\n",
    "                           (len(labels), len(knowledge_base), data_name, len(temp_labels), len(temp_kb)))\n",
    "\n"
   ]
  },
  {
   "cell_type": "markdown",
   "metadata": {},
   "source": [
    "## Semantic Labeling\n",
    "Prepare unknown query:\n",
    "1. BON: the query as a bag of numbers\n",
    "2. CSV file: user can custom the example query from \"./data/test/\" "
   ]
  },
  {
   "cell_type": "code",
   "execution_count": 3,
   "metadata": {
    "collapsed": false
   },
   "outputs": [
    {
     "name": "stdout",
     "output_type": "stream",
     "text": [
      "Queries: 7\n"
     ]
    }
   ],
   "source": [
    "# Query:\n",
    "# Bag of Numbers\n",
    "query_1 = NumericalAttribute(\"Unknown\", [1.7, 1.65, 1.7, 1.55, 1.71, 1.65, 1.88])\n",
    "query_2 = NumericalAttribute(\"Unknown\", [0.88, 0.92, 0.17, 0.65, 0.66, 0.90, 0.88, 0.72, 0.76, 0.99])\n",
    "query_3 = NumericalAttribute(\"Unknown\", [2018, 1965, 1987, 1999, 2017, 2015, 2011, 2012, 2012, 2011])\n",
    "\n",
    "# CSV files\n",
    "queries = io_worker.load_queries(\"test\")\n",
    "queries = [query_1, query_2, query_3] + queries\n",
    "io_worker.print_status(\"Queries: %d\" % len(queries))"
   ]
  },
  {
   "cell_type": "markdown",
   "metadata": {},
   "source": [
    "## Labeling Results using DBS1\n",
    "The results depicted top 10 relevant semantic labels in NKB using DBS1. "
   ]
  },
  {
   "cell_type": "code",
   "execution_count": 4,
   "metadata": {},
   "outputs": [
    {
     "name": "stdout",
     "output_type": "stream",
     "text": [
      "Method: dbs1\n\nQuery 1: Unknown [1.55, 1.65, 1.65, 1.70, 1.70, ...]\n+------+-----------------+--------------------------------+\n| Rank |    Distance     |             Label              |\n+======+=================+================================+\n| 1    | 10.887          | height                         |\n+------+-----------------+--------------------------------+\n| 2    | 16.892          | refractive_index               |\n+------+-----------------+--------------------------------+\n| 3    | 55.750          | aprRainInch                    |\n+------+-----------------+--------------------------------+\n| 4    | 58.198          | density                        |\n+------+-----------------+--------------------------------+\n| 5    | 64.549          | periapsis                      |\n+------+-----------------+--------------------------------+\n| 6    | 69.740          | decRainInch                    |\n+------+-----------------+--------------------------------+\n| 7    | 80.618          | width                          |\n+------+-----------------+--------------------------------+\n| 8    | 85.756          | humanDevelopmentIndex          |\n+------+-----------------+--------------------------------+\n| 9    | 90.262          | perimeter                      |\n+------+-----------------+--------------------------------+\n| 10   | 93.529          | wheelbase                      |\n+------+-----------------+--------------------------------+\n\nQuery 2: Unknown [0.17, 0.65, 0.66, 0.72, 0.76, ...]\n+------+-----------------+--------------------------------+\n| Rank |    Distance     |             Label              |\n+======+=================+================================+\n| 1    | 7.314           | humanDevelopmentIndex          |\n+------+-----------------+--------------------------------+\n| 2    | 13.260          | Human_Development_Index        |\n+------+-----------------+--------------------------------+\n| 3    | 48.131          | natural_abundance              |\n+------+-----------------+--------------------------------+\n| 4    | 48.620          | shareOfAudience                |\n+------+-----------------+--------------------------------+\n| 5    | 52.400          | aprRainInch                    |\n+------+-----------------+--------------------------------+\n| 6    | 55.980          | albedo                         |\n+------+-----------------+--------------------------------+\n| 7    | 61.991          | orbital_eccentricity           |\n+------+-----------------+--------------------------------+\n| 8    | 67.005          | density                        |\n+------+-----------------+--------------------------------+\n| 9    | 67.134          | percentageOfAreaWater          |\n+------+-----------------+--------------------------------+\n| 10   | 67.486          | refractive_index               |\n+------+-----------------+--------------------------------+\n\nQuery 3: Unknown [1965.00, 1987.00, 1999.00, 2011.00, 2011.00, ...]\n+------+-----------------+--------------------------------+\n| Rank |    Distance     |             Label              |\n+======+=================+================================+\n| 1    | 309             | extinctionYear                 |\n+------+-----------------+--------------------------------+\n| 2    | 490             | years                          |\n+------+-----------------+--------------------------------+\n| 3    | 751             | year                           |\n+------+-----------------+--------------------------------+\n| 4    | 866             | time period                    |\n+------+-----------------+--------------------------------+\n| 5    | 954             | draftYear                      |\n+------+-----------------+--------------------------------+\n| 6    | 986             | year ann e                     |\n+------+-----------------+--------------------------------+\n| 7    | 1025            | statistics year                |\n+------+-----------------+--------------------------------+\n| 8    | 1028            | endYearOfSales                 |\n+------+-----------------+--------------------------------+\n| 9    | 1265            | modelStartYear                 |\n+------+-----------------+--------------------------------+\n| 10   | 1398            | modelEndYear                   |\n+------+-----------------+--------------------------------+\n\nQuery 4: income [123670.00, 229785.00, 528847.12, 1000000.00, 1005897.12, ...]\n+------+-----------------+--------------------------------+\n| Rank |    Distance     |             Label              |\n+======+=================+================================+\n| 1    | 3.149e+08       | budget                         |\n+------+-----------------+--------------------------------+\n| 2    | 3.685e+08       | gross rent                     |\n+------+-----------------+--------------------------------+\n| 3    | 4.248e+08       | motor vehicle expenses         |\n+------+-----------------+--------------------------------+\n| 4    | 4.512e+08       | work related travel expenses   |\n+------+-----------------+--------------------------------+\n| 5    | 4.618e+08       | repairs and maintenance        |\n+------+-----------------+--------------------------------+\n| 6    | 4.710e+08       | gifts or donations             |\n+------+-----------------+--------------------------------+\n| 7    | 4.905e+08       | gross interest                 |\n+------+-----------------+--------------------------------+\n| 8    | 5.032e+08       | foreign source income          |\n|      |                 | assessable foreign source      |\n|      |                 | income                         |\n+------+-----------------+--------------------------------+\n| 9    | 5.071e+08       | salary cost of reports         |\n+------+-----------------+--------------------------------+\n| 10   | 5.262e+08       | personal superannuation        |\n|      |                 | contributions                  |\n+------+-----------------+--------------------------------+\n\nQuery 5: human_height [1.50, 1.51, 1.52, 1.53, 1.54, ...]\n+------+-----------------+--------------------------------+\n| Rank |    Distance     |             Label              |\n+======+=================+================================+\n| 1    | 6.628           | height                         |\n+------+-----------------+--------------------------------+\n| 2    | 23.183          | refractive_index               |\n+------+-----------------+--------------------------------+\n| 3    | 55.456          | aprRainInch                    |\n+------+-----------------+--------------------------------+\n| 4    | 56.848          | density                        |\n+------+-----------------+--------------------------------+\n| 5    | 58.258          | periapsis                      |\n+------+-----------------+--------------------------------+\n| 6    | 62.110          | decRainInch                    |\n+------+-----------------+--------------------------------+\n| 7    | 73.447          | width                          |\n+------+-----------------+--------------------------------+\n| 8    | 84.472          | perimeter                      |\n+------+-----------------+--------------------------------+\n| 9    | 87.239          | wheelbase                      |\n+------+-----------------+--------------------------------+\n| 10   | 89.100          | impactFactor                   |\n+------+-----------------+--------------------------------+\n\nQuery 6: country_population [799.00, 1340.00, 1628.00, 2921.00, 4096.00, ...]\n+------+-----------------+--------------------------------+\n| Rank |    Distance     |             Label              |\n+======+=================+================================+\n| 1    | 2.752e+08       | areaLand                       |\n+------+-----------------+--------------------------------+\n| 2    | 2.921e+08       | payments to associated persons |\n+------+-----------------+--------------------------------+\n| 3    | 3.567e+08       | trade debtors                  |\n+------+-----------------+--------------------------------+\n| 4    | 3.845e+08       | superannuation expenses        |\n+------+-----------------+--------------------------------+\n| 5    | 5.422e+08       | depreciation expenses          |\n+------+-----------------+--------------------------------+\n| 6    | 5.431e+08       | gross interest                 |\n+------+-----------------+--------------------------------+\n| 7    | 5.836e+08       | reportable employer            |\n|      |                 | superannuation contributions   |\n+------+-----------------+--------------------------------+\n| 8    | 6.210e+08       | personal superannuation        |\n|      |                 | contributions                  |\n+------+-----------------+--------------------------------+\n| 9    | 6.818e+08       | cost                           |\n+------+-----------------+--------------------------------+\n| 10   | 7.187e+08       | budget                         |\n+------+-----------------+--------------------------------+\n\nQuery 7: GDP [13923029.00, 13999883.00, 16300000.00, 16443035.00, 30290220.00, ...]\n+------+-----------------+--------------------------------+\n| Rank |    Distance     |             Label              |\n+======+=================+================================+\n| 1    | 9.203e+10       | nominal_GDP                    |\n+------+-----------------+--------------------------------+\n| 2    | 3.903e+11       | total_reserves                 |\n+------+-----------------+--------------------------------+\n| 3    | 5.124e+11       | total_assets                   |\n+------+-----------------+--------------------------------+\n| 4    | 6.012e+11       | trade debtors                  |\n+------+-----------------+--------------------------------+\n| 5    | 7.347e+11       | trade creditors                |\n+------+-----------------+--------------------------------+\n| 6    | 7.755e+11       | total_equity                   |\n+------+-----------------+--------------------------------+\n| 7    | 1.018e+12       | assetUnderManagement           |\n+------+-----------------+--------------------------------+\n| 8    | 1.027e+12       | net_worth_estimate             |\n+------+-----------------+--------------------------------+\n| 9    | 1.042e+12       | cost of sales                  |\n+------+-----------------+--------------------------------+\n| 10   | 1.122e+12       | assets                         |\n+------+-----------------+--------------------------------+\n"
     ]
    }
   ],
   "source": [
    "# Semantic labeling using the Manhattan distance DBS1 (l1)\n",
    "sem_method, sem_result = labeling.get_labels(queries, knowledge_base, \"dbs1\", config_trans_size)\n",
    "io_worker.print_labeling(sem_method, sem_result)\n"
   ]
  },
  {
   "cell_type": "markdown",
   "metadata": {},
   "source": [
    "## Labeling Results (Compare Labeling Methods)\n",
    "A comparision semantic labeling between the p-value based similarity and the DBS. "
   ]
  },
  {
   "cell_type": "code",
   "execution_count": 5,
   "metadata": {},
   "outputs": [
    {
     "name": "stdout",
     "output_type": "stream",
     "text": [
      "Query 1: Unknown [1.55, 1.65, 1.65, 1.70, 1.70, ...]\n+------+-----------------+-----------------+-----------------+-----------------+-----------------+\n| Rank |      dbs1       |      dbs2       |     dbsinf      |  semantictyper  |       dsl       |\n+======+=================+=================+=================+=================+=================+\n| 1    | height          | height          | height          | conversion_to_S | conversion_to_S |\n|      |                 |                 |                 | I_unit          | I_unit          |\n+------+-----------------+-----------------+-----------------+-----------------+-----------------+\n| 2    | refractive_inde | refractive_inde | refractive_inde | perimeter       | perimeter       |\n|      | x               | x               | x               |                 |                 |\n+------+-----------------+-----------------+-----------------+-----------------+-----------------+\n| 3    | aprRainInch     | aprRainInch     | humanDevelopmen | impactFactor    | aprRainInch     |\n|      |                 |                 | tIndex          |                 |                 |\n+------+-----------------+-----------------+-----------------+-----------------+-----------------+\n| 4    | density         | periapsis       | decRainInch     | visitorsPercent | augRainInch     |\n|      |                 |                 |                 | ageChange       |                 |\n+------+-----------------+-----------------+-----------------+-----------------+-----------------+\n| 5    | periapsis       | density         | aprRainInch     | water_as_percen | impactFactor    |\n|      |                 |                 |                 | t_of_area       |                 |\n+------+-----------------+-----------------+-----------------+-----------------+-----------------+\n| 6    | decRainInch     | decRainInch     | periapsis       | topographic_iso | decRainInch     |\n|      |                 |                 |                 | lation          |                 |\n+------+-----------------+-----------------+-----------------+-----------------+-----------------+\n| 7    | width           | humanDevelopmen | Human_Developme | diameter        | luminosity      |\n|      |                 | tIndex          | nt_Index        |                 |                 |\n+------+-----------------+-----------------+-----------------+-----------------+-----------------+\n| 8    | humanDevelopmen | wheelbase       | semi-major_axis | ceiling_exposur | water_as_percen |\n|      | tIndex          |                 |                 | e_limit         | t_of_area       |\n+------+-----------------+-----------------+-----------------+-----------------+-----------------+\n| 9    | perimeter       | Human_Developme | wheelbase       | percentageOfAre | topographic_iso |\n|      |                 | nt_Index        |                 | aWater          | lation          |\n+------+-----------------+-----------------+-----------------+-----------------+-----------------+\n| 10   | wheelbase       | semi-major_axis | shareOfAudience | aprRainInch     | visitorsPercent |\n|      |                 |                 |                 |                 | ageChange       |\n+------+-----------------+-----------------+-----------------+-----------------+-----------------+\nQuery 2: Unknown [0.17, 0.65, 0.66, 0.72, 0.76, ...]\n+------+-----------------+-----------------+-----------------+-----------------+-----------------+\n| Rank |      dbs1       |      dbs2       |     dbsinf      |  semantictyper  |       dsl       |\n+======+=================+=================+=================+=================+=================+\n| 1    | humanDevelopmen | humanDevelopmen | humanDevelopmen | humanDevelopmen | humanDevelopmen |\n|      | tIndex          | tIndex          | tIndex          | tIndex          | tIndex          |\n+------+-----------------+-----------------+-----------------+-----------------+-----------------+\n| 2    | Human_Developme | Human_Developme | Human_Developme | conversion_to_S | Human_Developme |\n|      | nt_Index        | nt_Index        | nt_Index        | I_unit          | nt_Index        |\n+------+-----------------+-----------------+-----------------+-----------------+-----------------+\n| 3    | natural_abundan | natural_abundan | albedo          | minimumDischarg | shareOfAudience |\n|      | ce              | ce              |                 | e               |                 |\n+------+-----------------+-----------------+-----------------+-----------------+-----------------+\n| 4    | shareOfAudience | shareOfAudience | natural_abundan | percentageOfAre | vapor_pressure  |\n|      |                 |                 | ce              | aWater          |                 |\n+------+-----------------+-----------------+-----------------+-----------------+-----------------+\n| 5    | aprRainInch     | albedo          | orbital_eccentr | shareOfAudience | percentageOfAre |\n|      |                 |                 | icity           |                 | aWater          |\n+------+-----------------+-----------------+-----------------+-----------------+-----------------+\n| 6    | albedo          | aprRainInch     | augRainInch     | ceiling_exposur | minimumDischarg |\n|      |                 |                 |                 | e_limit         | e               |\n+------+-----------------+-----------------+-----------------+-----------------+-----------------+\n| 7    | orbital_eccentr | orbital_eccentr | luminosity      | vapor_pressure  | ceiling_exposur |\n|      | icity           | icity           |                 |                 | e_limit         |\n+------+-----------------+-----------------+-----------------+-----------------+-----------------+\n| 8    | density         | refractive_inde | retail trade    | retail trade    | augRainInch     |\n|      |                 | x               |                 |                 |                 |\n+------+-----------------+-----------------+-----------------+-----------------+-----------------+\n| 9    | percentageOfAre | augRainInch     | redshift        | Human_Developme | retail trade    |\n|      | aWater          |                 |                 | nt_Index        |                 |\n+------+-----------------+-----------------+-----------------+-----------------+-----------------+\n| 10   | refractive_inde | luminosity      | displacement    | visitorsPercent | aprRainInch     |\n|      | x               |                 |                 | ageChange       |                 |\n+------+-----------------+-----------------+-----------------+-----------------+-----------------+\nQuery 3: Unknown [1965.00, 1987.00, 1999.00, 2011.00, 2011.00, ...]\n+------+-----------------+-----------------+-----------------+-----------------+-----------------+\n| Rank |      dbs1       |      dbs2       |     dbsinf      |  semantictyper  |       dsl       |\n+======+=================+=================+=================+=================+=================+\n| 1    | extinctionYear  | extinctionYear  | extinctionYear  | extinctionYear  | extinctionYear  |\n+------+-----------------+-----------------+-----------------+-----------------+-----------------+\n| 2    | years           | years           | endYearOfSales  | year            | years           |\n+------+-----------------+-----------------+-----------------+-----------------+-----------------+\n| 3    | year            | draftYear       | draftYear       | time period     | year            |\n+------+-----------------+-----------------+-----------------+-----------------+-----------------+\n| 4    | time period     | year            | year            | years           | time period     |\n+------+-----------------+-----------------+-----------------+-----------------+-----------------+\n| 5    | draftYear       | statistics year | statistics year | rebuildingYear  | modelEndYear    |\n+------+-----------------+-----------------+-----------------+-----------------+-----------------+\n| 6    | year ann e      | endYearOfSales  | years           | modelEndYear    | rebuildingYear  |\n+------+-----------------+-----------------+-----------------+-----------------+-----------------+\n| 7    | statistics year | time period     | startYearOfSale | modelStartYear  | statistics year |\n|      |                 |                 | s               |                 |                 |\n+------+-----------------+-----------------+-----------------+-----------------+-----------------+\n| 8    | endYearOfSales  | year ann e      | modelEndYear    | finalPublicatio | draftYear       |\n|      |                 |                 |                 | nYear           |                 |\n+------+-----------------+-----------------+-----------------+-----------------+-----------------+\n| 9    | modelStartYear  | modelStartYear  | modelStartYear  | eruptionYear    | activeYearsEndY |\n|      |                 |                 |                 |                 | ear             |\n+------+-----------------+-----------------+-----------------+-----------------+-----------------+\n| 10   | modelEndYear    | startYearOfSale | endYearOfInsert | activeYearsEndY | modelStartYear  |\n|      |                 | s               | ion             | ear             |                 |\n+------+-----------------+-----------------+-----------------+-----------------+-----------------+\nQuery 4: income [123670.00, 229785.00, 528847.12, 1000000.00, 1005897.12, ...]\n+------+-----------------+-----------------+-----------------+-----------------+-----------------+\n| Rank |      dbs1       |      dbs2       |     dbsinf      |  semantictyper  |       dsl       |\n+======+=================+=================+=================+=================+=================+\n| 1    | budget          | gifts or        | gifts or        | timeInSpace     | salary cost of  |\n|      |                 | donations       | donations       |                 | reports         |\n+------+-----------------+-----------------+-----------------+-----------------+-----------------+\n| 2    | gross rent      | work related    | payments to     | budget          | motor vehicle   |\n|      |                 | travel expenses | associated      |                 | expenses        |\n|      |                 |                 | persons         |                 |                 |\n+------+-----------------+-----------------+-----------------+-----------------+-----------------+\n| 3    | motor vehicle   | gross rent      | superannuation  | areaLand        | unitCost        |\n|      | expenses        |                 | expenses        |                 |                 |\n+------+-----------------+-----------------+-----------------+-----------------+-----------------+\n| 4    | work related    | budget          | cost            | gross rent      | timeInSpace     |\n|      | travel expenses |                 |                 |                 |                 |\n+------+-----------------+-----------------+-----------------+-----------------+-----------------+\n| 5    | repairs and     | repairs and     | budget          | interest        | units_sold      |\n|      | maintenance     | maintenance     |                 | expenses        |                 |\n|      |                 |                 |                 | overseas        |                 |\n+------+-----------------+-----------------+-----------------+-----------------+-----------------+\n| 6    | gifts or        | reportable      | gross interest  | motor vehicle   | gross rent      |\n|      | donations       | employer        |                 | expenses        |                 |\n|      |                 | superannuation  |                 |                 |                 |\n|      |                 | contributions   |                 |                 |                 |\n+------+-----------------+-----------------+-----------------+-----------------+-----------------+\n| 7    | gross interest  | gross interest  | gross rent      | trade debtors   | gross interest  |\n+------+-----------------+-----------------+-----------------+-----------------+-----------------+\n| 8    | foreign source  | payments to     | work related    | salary          | gifts or        |\n|      | income          | associated      | travel expenses |                 | donations       |\n|      | assessable      | persons         |                 |                 |                 |\n|      | foreign source  |                 |                 |                 |                 |\n|      | income          |                 |                 |                 |                 |\n+------+-----------------+-----------------+-----------------+-----------------+-----------------+\n| 9    | salary cost of  | distance_from_E | repairs and     | number_of_subsc | personal        |\n|      | reports         | arth            | maintenance     | ribers          | superannuation  |\n|      |                 |                 |                 |                 | contributions   |\n+------+-----------------+-----------------+-----------------+-----------------+-----------------+\n| 10   | personal        | cost            | number_of_subsc | trade creditors | rent expenses   |\n|      | superannuation  |                 | ribers          |                 |                 |\n|      | contributions   |                 |                 |                 |                 |\n+------+-----------------+-----------------+-----------------+-----------------+-----------------+\nQuery 5: human_height [1.50, 1.51, 1.52, 1.53, 1.54, ...]\n+------+-----------------+-----------------+-----------------+-----------------+-----------------+\n| Rank |      dbs1       |      dbs2       |     dbsinf      |  semantictyper  |       dsl       |\n+======+=================+=================+=================+=================+=================+\n| 1    | height          | height          | height          | height          | height          |\n+------+-----------------+-----------------+-----------------+-----------------+-----------------+\n| 2    | refractive_inde | refractive_inde | refractive_inde | width           | density         |\n|      | x               | x               | x               |                 |                 |\n+------+-----------------+-----------------+-----------------+-----------------+-----------------+\n| 3    | aprRainInch     | periapsis       | decRainInch     | decRainInch     | width           |\n+------+-----------------+-----------------+-----------------+-----------------+-----------------+\n| 4    | density         | aprRainInch     | periapsis       | conversion_to_S | decRainInch     |\n|      |                 |                 |                 | I_unit          |                 |\n+------+-----------------+-----------------+-----------------+-----------------+-----------------+\n| 5    | periapsis       | density         | humanDevelopmen | impactFactor    | perimeter       |\n|      |                 |                 | tIndex          |                 |                 |\n+------+-----------------+-----------------+-----------------+-----------------+-----------------+\n| 6    | decRainInch     | decRainInch     | aprRainInch     | perimeter       | impactFactor    |\n+------+-----------------+-----------------+-----------------+-----------------+-----------------+\n| 7    | width           | wheelbase       | Human_Developme | visitorsPercent | topographic_iso |\n|      |                 |                 | nt_Index        | ageChange       | lation          |\n+------+-----------------+-----------------+-----------------+-----------------+-----------------+\n| 8    | perimeter       | humanDevelopmen | semi-major_axis | topographic_iso | aprRainInch     |\n|      |                 | tIndex          |                 | lation          |                 |\n+------+-----------------+-----------------+-----------------+-----------------+-----------------+\n| 9    | wheelbase       | semi-major_axis | wheelbase       | water_as_percen | minimumDischarg |\n|      |                 |                 |                 | t_of_area       | e               |\n+------+-----------------+-----------------+-----------------+-----------------+-----------------+\n| 10   | impactFactor    | Human_Developme | shareOfAudience | diameter        | shareOfAudience |\n|      |                 | nt_Index        |                 |                 |                 |\n+------+-----------------+-----------------+-----------------+-----------------+-----------------+\nQuery 6: country_population [799.00, 1340.00, 1628.00, 2921.00, 4096.00, ...]\n+------+-----------------+-----------------+-----------------+-----------------+-----------------+\n| Rank |      dbs1       |      dbs2       |     dbsinf      |  semantictyper  |       dsl       |\n+======+=================+=================+=================+=================+=================+\n| 1    | areaLand        | areaLand        | reportable      | trade debtors   | trade debtors   |\n|      |                 |                 | employer        |                 |                 |\n|      |                 |                 | superannuation  |                 |                 |\n|      |                 |                 | contributions   |                 |                 |\n+------+-----------------+-----------------+-----------------+-----------------+-----------------+\n| 2    | payments to     | payments to     | personal        | trade creditors | trade creditors |\n|      | associated      | associated      | superannuation  |                 |                 |\n|      | persons         | persons         | contributions   |                 |                 |\n+------+-----------------+-----------------+-----------------+-----------------+-----------------+\n| 3    | trade debtors   | reportable      | areaLand        | gross rent      | gross rent      |\n|      |                 | employer        |                 |                 |                 |\n|      |                 | superannuation  |                 |                 |                 |\n|      |                 | contributions   |                 |                 |                 |\n+------+-----------------+-----------------+-----------------+-----------------+-----------------+\n| 4    | superannuation  | superannuation  | payments to     | repairs and     | cost            |\n|      | expenses        | expenses        | associated      | maintenance     |                 |\n|      |                 |                 | persons         |                 |                 |\n+------+-----------------+-----------------+-----------------+-----------------+-----------------+\n| 5    | depreciation    | personal        | fringe benefit  | cost            | superannuation  |\n|      | expenses        | superannuation  | employee        |                 | expenses        |\n|      |                 | contributions   | contributions   |                 |                 |\n+------+-----------------+-----------------+-----------------+-----------------+-----------------+\n| 6    | gross interest  | trade debtors   | trade debtors   | depreciation    | repairs and     |\n|      |                 |                 |                 | expenses        | maintenance     |\n+------+-----------------+-----------------+-----------------+-----------------+-----------------+\n| 7    | reportable      | depreciation    | superannuation  | motor vehicle   | motor vehicle   |\n|      | employer        | expenses        | expenses        | expenses        | expenses        |\n|      | superannuation  |                 |                 |                 |                 |\n|      | contributions   |                 |                 |                 |                 |\n+------+-----------------+-----------------+-----------------+-----------------+-----------------+\n| 8    | personal        | fringe benefit  | gross rent      | superannuation  | units_sold      |\n|      | superannuation  | employee        |                 | expenses        |                 |\n|      | contributions   | contributions   |                 |                 |                 |\n+------+-----------------+-----------------+-----------------+-----------------+-----------------+\n| 9    | cost            | cost            | cost            | rent expenses   | interest        |\n|      |                 |                 |                 |                 | expenses        |\n|      |                 |                 |                 |                 | overseas        |\n+------+-----------------+-----------------+-----------------+-----------------+-----------------+\n| 10   | budget          | fileSize        | mass            | number_of_subsc | budget          |\n|      |                 |                 |                 | ribers          |                 |\n+------+-----------------+-----------------+-----------------+-----------------+-----------------+\nQuery 7: GDP [13923029.00, 13999883.00, 16300000.00, 16443035.00, 30290220.00, ...]\n+------+-----------------+-----------------+-----------------+-----------------+-----------------+\n| Rank |      dbs1       |      dbs2       |     dbsinf      |  semantictyper  |       dsl       |\n+======+=================+=================+=================+=================+=================+\n| 1    | nominal_GDP     | nominal_GDP     | nominal_GDP     | nominal_GDP     | nominal_GDP     |\n+------+-----------------+-----------------+-----------------+-----------------+-----------------+\n| 2    | total_reserves  | total_reserves  | total_equity    | total_assets    | total_assets    |\n+------+-----------------+-----------------+-----------------+-----------------+-----------------+\n| 3    | total_assets    | trade debtors   | total_reserves  | total_reserves  | cost of sales   |\n+------+-----------------+-----------------+-----------------+-----------------+-----------------+\n| 4    | trade debtors   | total_equity    | trade debtors   | cost of sales   | total_reserves  |\n+------+-----------------+-----------------+-----------------+-----------------+-----------------+\n| 5    | trade creditors | trade creditors | trade creditors | trade debtors   | assetUnderManag |\n|      |                 |                 |                 |                 | ement           |\n+------+-----------------+-----------------+-----------------+-----------------+-----------------+\n| 6    | total_equity    | total_assets    | assetUnderManag | assetUnderManag | total_equity    |\n|      |                 |                 | ement           | ement           |                 |\n+------+-----------------+-----------------+-----------------+-----------------+-----------------+\n| 7    | assetUnderManag | assetUnderManag | total_assets    | assets          | net_worth_estim |\n|      | ement           | ement           |                 |                 | ate             |\n+------+-----------------+-----------------+-----------------+-----------------+-----------------+\n| 8    | net_worth_estim | cost of sales   | cost of sales   | total_equity    | trade debtors   |\n|      | ate             |                 |                 |                 |                 |\n+------+-----------------+-----------------+-----------------+-----------------+-----------------+\n| 9    | cost of sales   | contractor sub  | depreciation    | net_worth_estim | trade creditors |\n|      |                 | contractor and  | expenses        | ate             |                 |\n|      |                 | commission      |                 |                 |                 |\n|      |                 | expenses        |                 |                 |                 |\n+------+-----------------+-----------------+-----------------+-----------------+-----------------+\n| 10   | assets          | net_worth_estim | contractor sub  | trade creditors | total_revenue   |\n|      |                 | ate             | contractor and  |                 |                 |\n|      |                 |                 | commission      |                 |                 |\n|      |                 |                 | expenses        |                 |                 |\n+------+-----------------+-----------------+-----------------+-----------------+-----------------+\n"
     ]
    }
   ],
   "source": [
    "io_worker.print_labeling_compare_mode([labeling.get_labels(queries, knowledge_base, \"dbs1\", config_trans_size),\n",
    "                                       labeling.get_labels(queries, knowledge_base, \"dbs2\", config_trans_size),\n",
    "                                       labeling.get_labels(queries, knowledge_base, \"dbsinf\", config_trans_size),\n",
    "                                       labeling.get_labels(queries, knowledge_base, \"semantictyper\", config_trans_size),\n",
    "                                       labeling.get_labels(queries, knowledge_base, \"dsl\", config_trans_size),\n",
    "                                       ])\n"
   ]
  }
 ],
 "metadata": {
  "kernelspec": {
   "display_name": "Python 2",
   "language": "python",
   "name": "python2"
  },
  "language_info": {
   "codemirror_mode": {
    "name": "ipython",
    "version": 2
   },
   "file_extension": ".py",
   "mimetype": "text/x-python",
   "name": "python",
   "nbconvert_exporter": "python",
   "pygments_lexer": "ipython2",
   "version": "2.7.6"
  }
 },
 "nbformat": 4,
 "nbformat_minor": 0
}

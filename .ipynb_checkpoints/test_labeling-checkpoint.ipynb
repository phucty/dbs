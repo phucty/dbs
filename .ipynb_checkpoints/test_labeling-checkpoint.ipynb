{
 "cells": [
  {
   "cell_type": "code",
   "execution_count": 2,
   "metadata": {},
   "outputs": [],
   "source": [
    "import io_worker\n",
    "import argparse\n",
    "import distances\n",
    "\n",
    "dataset_names = [\"all\", \"city\", \"dbpedia\", \"wikidata\", \"open\"]\n",
    "methods = [\"semantictyper\", \"dsl\", \"dbs1\", \"dbs2\", \"dbsinf\"]\n",
    "\n",
    "\n",
    "def get_arguments():\n",
    "    parser = argparse.ArgumentParser(description=\"Semantic Labeling for Numerical Values\")\n",
    "    parser.add_argument(\"--dataset\", choices=dataset_names, default=\"all\", help=\"Dataset in {}\".format(dataset_names))\n",
    "    parser.add_argument(\"--method\", choices=methods, default=\"dbs1\", help=\"Method in {}\".format(methods))\n",
    "    parser.add_argument(\"--trans_size\", default=100, type=int, help=\"Distribution transformation size\")\n",
    "    return parser.parse_args()\n"
   ]
  },
  {
   "cell_type": "code",
   "execution_count": 3,
   "metadata": {},
   "outputs": [
    {
     "name": "stderr",
     "output_type": "stream",
     "text": [
      "usage: ipykernel_launcher.py [-h] [--dataset {all,city,dbpedia,wikidata,open}]\n",
      "                             [--method {semantictyper,dsl,dbs1,dbs2,dbsinf}]\n",
      "                             [--trans_size TRANS_SIZE]\n",
      "ipykernel_launcher.py: error: unrecognized arguments: -f /Users/phucnt/Library/Jupyter/runtime/kernel-cb4910f4-5d04-413e-bd4d-862836611103.json\n"
     ]
    },
    {
     "ename": "SystemExit",
     "evalue": "2",
     "output_type": "error",
     "traceback": [
      "An exception has occurred, use %tb to see the full traceback.\n",
      "\u001b[0;31mSystemExit\u001b[0m\u001b[0;31m:\u001b[0m 2\n"
     ]
    },
    {
     "name": "stderr",
     "output_type": "stream",
     "text": [
      "/Users/phucnt/anaconda3/envs/py3/lib/python3.6/site-packages/IPython/core/interactiveshell.py:3275: UserWarning: To exit: use 'exit', 'quit', or Ctrl-D.\n",
      "  warn(\"To exit: use 'exit', 'quit', or Ctrl-D.\", stacklevel=1)\n"
     ]
    }
   ],
   "source": [
    "args = get_arguments()\n",
    "io_worker.print_status(args)\n",
    "if \"all\" in args.dataset:\n",
    "    process_datasets = dataset_names[1:]\n",
    "else:\n",
    "    process_datasets = [args.dataset]\n",
    "\n"
   ]
  },
  {
   "cell_type": "code",
   "execution_count": 1,
   "metadata": {},
   "outputs": [
    {
     "ename": "NameError",
     "evalue": "name 'io_worker' is not defined",
     "output_type": "error",
     "traceback": [
      "\u001b[0;31m---------------------------------------------------------------------------\u001b[0m",
      "\u001b[0;31mNameError\u001b[0m                                 Traceback (most recent call last)",
      "\u001b[0;32m<ipython-input-1-b97abe293a12>\u001b[0m in \u001b[0;36m<module>\u001b[0;34m\u001b[0m\n\u001b[1;32m      1\u001b[0m \u001b[0mlabels\u001b[0m \u001b[0;34m=\u001b[0m \u001b[0mset\u001b[0m\u001b[0;34m(\u001b[0m\u001b[0;34m)\u001b[0m\u001b[0;34m\u001b[0m\u001b[0;34m\u001b[0m\u001b[0m\n\u001b[1;32m      2\u001b[0m \u001b[0mknowledge_base\u001b[0m \u001b[0;34m=\u001b[0m \u001b[0;34m[\u001b[0m\u001b[0;34m]\u001b[0m\u001b[0;34m\u001b[0m\u001b[0;34m\u001b[0m\u001b[0m\n\u001b[0;32m----> 3\u001b[0;31m \u001b[0mio_worker\u001b[0m\u001b[0;34m.\u001b[0m\u001b[0mprint_status\u001b[0m\u001b[0;34m(\u001b[0m\u001b[0;34m\"Data Loading: \"\u001b[0m\u001b[0;34m)\u001b[0m\u001b[0;34m\u001b[0m\u001b[0;34m\u001b[0m\u001b[0m\n\u001b[0m\u001b[1;32m      4\u001b[0m \u001b[0;32mfor\u001b[0m \u001b[0mdata_name\u001b[0m \u001b[0;32min\u001b[0m \u001b[0mprocess_datasets\u001b[0m\u001b[0;34m:\u001b[0m\u001b[0;34m\u001b[0m\u001b[0;34m\u001b[0m\u001b[0m\n\u001b[1;32m      5\u001b[0m     \u001b[0mtemp_labels\u001b[0m\u001b[0;34m,\u001b[0m \u001b[0mtemp_kb\u001b[0m \u001b[0;34m=\u001b[0m \u001b[0mio_worker\u001b[0m\u001b[0;34m.\u001b[0m\u001b[0mload_numerical_dataset\u001b[0m\u001b[0;34m(\u001b[0m\u001b[0mdata_name\u001b[0m\u001b[0;34m)\u001b[0m\u001b[0;34m\u001b[0m\u001b[0;34m\u001b[0m\u001b[0m\n",
      "\u001b[0;31mNameError\u001b[0m: name 'io_worker' is not defined"
     ]
    }
   ],
   "source": [
    "labels = set()\n",
    "knowledge_base = []\n",
    "io_worker.print_status(\"Data Loading: \")\n",
    "for data_name in process_datasets:\n",
    "    temp_labels, temp_kb = io_worker.load_numerical_dataset(data_name)\n",
    "    if \"dbs\" in args.method:\n",
    "        for attr in temp_kb:\n",
    "            attr.values = distances.get_transformation(attr.values, args.trans_size)\n",
    "    labels = labels.union(temp_labels)\n",
    "    knowledge_base.extend(temp_kb)\n",
    "    io_worker.print_status(\"Overall: %d(labels) - %d(columns) | Load: %s: %d(labels) - %d(columns) \" %\n",
    "                           (len(labels), len(knowledge_base), data_name, len(temp_labels), len(temp_kb)))\n",
    "\n",
    "\n"
   ]
  },
  {
   "cell_type": "code",
   "execution_count": null,
   "metadata": {},
   "outputs": [],
   "source": []
  }
 ],
 "metadata": {
  "kernelspec": {
   "display_name": "Python 3",
   "language": "python",
   "name": "python3"
  },
  "language_info": {
   "codemirror_mode": {
    "name": "ipython",
    "version": 3
   },
   "file_extension": ".py",
   "mimetype": "text/x-python",
   "name": "python",
   "nbconvert_exporter": "python",
   "pygments_lexer": "ipython3",
   "version": "3.6.7"
  }
 },
 "nbformat": 4,
 "nbformat_minor": 1
}
